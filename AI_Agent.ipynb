{
  "nbformat": 4,
  "nbformat_minor": 0,
  "metadata": {
    "colab": {
      "private_outputs": true,
      "provenance": [],
      "authorship_tag": "ABX9TyMJ65Z6pACwxHp8UK1/lbeE",
      "include_colab_link": true
    },
    "kernelspec": {
      "name": "python3",
      "display_name": "Python 3"
    },
    "language_info": {
      "name": "python"
    }
  },
  "cells": [
    {
      "cell_type": "markdown",
      "metadata": {
        "id": "view-in-github",
        "colab_type": "text"
      },
      "source": [
        "<a href=\"https://colab.research.google.com/github/adrianyang2012/AI_study_agent/blob/main/AI_Agent.ipynb\" target=\"_parent\"><img src=\"https://colab.research.google.com/assets/colab-badge.svg\" alt=\"Open In Colab\"/></a>"
      ]
    },
    {
      "cell_type": "code",
      "execution_count": null,
      "metadata": {
        "id": "8zwXC4DTkDP0"
      },
      "outputs": [],
      "source": [
        "!pip install openai\n",
        "!pip install html2text"
      ]
    },
    {
      "cell_type": "code",
      "source": [
        "import os\n",
        "import requests\n",
        "import html2text\n",
        "h = html2text.HTML2Text()\n",
        "h.ignore_links = True\n",
        "the_link = 'https://en.wikipedia.org/wiki/Apple'\n",
        "os.environ['OPENAI_API_KEY'] = '**********************************************************************'\n",
        "from openai import OpenAI\n",
        "client = OpenAI()\n",
        "\n",
        "completion = client.chat.completions.create(\n",
        "    model=\"gpt-4o-mini-2024-07-18\",\n",
        "    messages=[\n",
        "      {\"role\": \"system\", \"content\": \"You are a person who uses has good summarizing skills\"},\n",
        "      {\"role\": \"user\", \"content\": f\"Convert this to notes(provide details and make it like for a test): {h.handle(requests.get(the_link).text)} seperate it into sections with a tag ____\"}\n",
        "    ]\n",
        "  )\n",
        "ans = completion.choices[0].message.content.split('____')\n",
        "for i in range(0,len(ans)):\n",
        "  print(completion.choices[0].message.content.split('____')[i])"
      ],
      "metadata": {
        "id": "rDu00kEhkFl5"
      },
      "execution_count": null,
      "outputs": []
    },
    {
      "cell_type": "code",
      "source": [
        "questions = int(input('how much questions do you want'))\n",
        "difficulty = int(input('how hard do you want it to be (1-3)'))\n",
        "real_difficulty = ['easy','medium','hard'][difficulty-1]\n",
        "completion = client.chat.completions.create(\n",
        "    model=\"gpt-4o-mini-2024-07-18\",\n",
        "    messages=[\n",
        "      {\"role\": \"system\", \"content\": \"You are a person who uses has good summarizing skills\"},\n",
        "      {\"role\": \"user\", \"content\": f\"Make a quiz with {real_difficulty}{questions} questions using this text: {h.handle(requests.get(the_link).text)} split the questions into a thing like QUESTION:(blah blah blah) ANSWER:(blah blah blah) and don't bold the text and don't say anything else\"}\n",
        "    ]\n",
        "  )"
      ],
      "metadata": {
        "id": "RsvbMpGYkHYH"
      },
      "execution_count": null,
      "outputs": []
    },
    {
      "cell_type": "code",
      "source": [
        "ans = completion.choices[0].message.content\n",
        "i = 0\n",
        "for thing in ans.split('QUESTION: '):\n",
        "  if i == 0:\n",
        "    i+=1\n",
        "    continue\n",
        "  input(thing.split('ANSWER: ')[0])\n",
        "  print(thing.split('ANSWER: ')[1])\n",
        "  i+=1\n"
      ],
      "metadata": {
        "id": "vg85MtfzkIxu"
      },
      "execution_count": null,
      "outputs": []
    }
  ]
}